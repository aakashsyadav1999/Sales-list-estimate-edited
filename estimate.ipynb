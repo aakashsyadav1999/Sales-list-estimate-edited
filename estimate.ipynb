{
 "cells": [
  {
   "cell_type": "code",
   "execution_count": 1,
   "metadata": {},
   "outputs": [],
   "source": [
    "import pandas as pd\n",
    "import numpy as np\n",
    "import matplotlib.pyplot as plt\n",
    "import seaborn as sns\n"
   ]
  },
  {
   "cell_type": "code",
   "execution_count": 2,
   "metadata": {},
   "outputs": [
    {
     "data": {
      "text/html": [
       "<div>\n",
       "<style scoped>\n",
       "    .dataframe tbody tr th:only-of-type {\n",
       "        vertical-align: middle;\n",
       "    }\n",
       "\n",
       "    .dataframe tbody tr th {\n",
       "        vertical-align: top;\n",
       "    }\n",
       "\n",
       "    .dataframe thead th {\n",
       "        text-align: right;\n",
       "    }\n",
       "</style>\n",
       "<table border=\"1\" class=\"dataframe\">\n",
       "  <thead>\n",
       "    <tr style=\"text-align: right;\">\n",
       "      <th></th>\n",
       "      <th>SrNo</th>\n",
       "      <th>Voucher Date</th>\n",
       "      <th>Day Book</th>\n",
       "      <th>Item Name</th>\n",
       "      <th>Item Group Name</th>\n",
       "      <th>GrossWt</th>\n",
       "      <th>NetWt</th>\n",
       "      <th>Bill Amt</th>\n",
       "    </tr>\n",
       "  </thead>\n",
       "  <tbody>\n",
       "    <tr>\n",
       "      <th>0</th>\n",
       "      <td>2.0</td>\n",
       "      <td>2022-01-01</td>\n",
       "      <td>ESTIMATE</td>\n",
       "      <td>KANTI KDM</td>\n",
       "      <td>KDM GOLD ORNAMENTS</td>\n",
       "      <td>0.14</td>\n",
       "      <td>0.14</td>\n",
       "      <td>1000.0</td>\n",
       "    </tr>\n",
       "    <tr>\n",
       "      <th>1</th>\n",
       "      <td>8.0</td>\n",
       "      <td>2022-01-03</td>\n",
       "      <td>ESTIMATE</td>\n",
       "      <td>KANTI KDM</td>\n",
       "      <td>KDM GOLD ORNAMENTS</td>\n",
       "      <td>0.24</td>\n",
       "      <td>0.24</td>\n",
       "      <td>1500.0</td>\n",
       "    </tr>\n",
       "    <tr>\n",
       "      <th>2</th>\n",
       "      <td>9.0</td>\n",
       "      <td>2022-01-03</td>\n",
       "      <td>ESTIMATE</td>\n",
       "      <td>SILVER ZUDA</td>\n",
       "      <td>SILVER ORNAMENTS</td>\n",
       "      <td>216.80</td>\n",
       "      <td>216.80</td>\n",
       "      <td>17000.0</td>\n",
       "    </tr>\n",
       "    <tr>\n",
       "      <th>3</th>\n",
       "      <td>10.0</td>\n",
       "      <td>2022-01-03</td>\n",
       "      <td>ESTIMATE</td>\n",
       "      <td>KANTI KDM</td>\n",
       "      <td>KDM GOLD ORNAMENTS</td>\n",
       "      <td>0.24</td>\n",
       "      <td>0.24</td>\n",
       "      <td>1870.0</td>\n",
       "    </tr>\n",
       "    <tr>\n",
       "      <th>4</th>\n",
       "      <td>12.0</td>\n",
       "      <td>2022-01-03</td>\n",
       "      <td>ESTIMATE</td>\n",
       "      <td>KANTI KDM</td>\n",
       "      <td>KDM GOLD ORNAMENTS</td>\n",
       "      <td>0.04</td>\n",
       "      <td>0.04</td>\n",
       "      <td>500.0</td>\n",
       "    </tr>\n",
       "  </tbody>\n",
       "</table>\n",
       "</div>"
      ],
      "text/plain": [
       "   SrNo Voucher Date  Day Book    Item Name     Item Group Name  GrossWt  \\\n",
       "0   2.0   2022-01-01  ESTIMATE    KANTI KDM  KDM GOLD ORNAMENTS     0.14   \n",
       "1   8.0   2022-01-03  ESTIMATE    KANTI KDM  KDM GOLD ORNAMENTS     0.24   \n",
       "2   9.0   2022-01-03  ESTIMATE  SILVER ZUDA    SILVER ORNAMENTS   216.80   \n",
       "3  10.0   2022-01-03  ESTIMATE    KANTI KDM  KDM GOLD ORNAMENTS     0.24   \n",
       "4  12.0   2022-01-03  ESTIMATE    KANTI KDM  KDM GOLD ORNAMENTS     0.04   \n",
       "\n",
       "    NetWt  Bill Amt  \n",
       "0    0.14    1000.0  \n",
       "1    0.24    1500.0  \n",
       "2  216.80   17000.0  \n",
       "3    0.24    1870.0  \n",
       "4    0.04     500.0  "
      ]
     },
     "execution_count": 2,
     "metadata": {},
     "output_type": "execute_result"
    }
   ],
   "source": [
    "df=pd.read_excel('C:\\\\Users\\\\compu\\\\Downloads\\\\Software for Analysis\\\\Excel Data set\\\\Sales Listestiment (1).xlsx')\n",
    "df.head()"
   ]
  },
  {
   "cell_type": "code",
   "execution_count": 3,
   "metadata": {},
   "outputs": [
    {
     "data": {
      "text/plain": [
       "SrNo               1\n",
       "Voucher Date       1\n",
       "Day Book           1\n",
       "Item Name          1\n",
       "Item Group Name    1\n",
       "GrossWt            0\n",
       "NetWt              0\n",
       "Bill Amt           0\n",
       "dtype: int64"
      ]
     },
     "execution_count": 3,
     "metadata": {},
     "output_type": "execute_result"
    }
   ],
   "source": [
    "df.isnull().sum()"
   ]
  },
  {
   "cell_type": "code",
   "execution_count": 4,
   "metadata": {},
   "outputs": [
    {
     "data": {
      "text/html": [
       "<div>\n",
       "<style scoped>\n",
       "    .dataframe tbody tr th:only-of-type {\n",
       "        vertical-align: middle;\n",
       "    }\n",
       "\n",
       "    .dataframe tbody tr th {\n",
       "        vertical-align: top;\n",
       "    }\n",
       "\n",
       "    .dataframe thead th {\n",
       "        text-align: right;\n",
       "    }\n",
       "</style>\n",
       "<table border=\"1\" class=\"dataframe\">\n",
       "  <thead>\n",
       "    <tr style=\"text-align: right;\">\n",
       "      <th></th>\n",
       "      <th>SrNo</th>\n",
       "      <th>GrossWt</th>\n",
       "      <th>NetWt</th>\n",
       "      <th>Bill Amt</th>\n",
       "    </tr>\n",
       "  </thead>\n",
       "  <tbody>\n",
       "    <tr>\n",
       "      <th>count</th>\n",
       "      <td>599.000000</td>\n",
       "      <td>600.000000</td>\n",
       "      <td>600.000000</td>\n",
       "      <td>6.000000e+02</td>\n",
       "    </tr>\n",
       "    <tr>\n",
       "      <th>mean</th>\n",
       "      <td>2490.936561</td>\n",
       "      <td>136.680967</td>\n",
       "      <td>136.555400</td>\n",
       "      <td>8.263785e+04</td>\n",
       "    </tr>\n",
       "    <tr>\n",
       "      <th>std</th>\n",
       "      <td>1294.054274</td>\n",
       "      <td>1714.422156</td>\n",
       "      <td>1712.926813</td>\n",
       "      <td>1.018372e+06</td>\n",
       "    </tr>\n",
       "    <tr>\n",
       "      <th>min</th>\n",
       "      <td>2.000000</td>\n",
       "      <td>0.000000</td>\n",
       "      <td>0.000000</td>\n",
       "      <td>0.000000e+00</td>\n",
       "    </tr>\n",
       "    <tr>\n",
       "      <th>25%</th>\n",
       "      <td>1258.000000</td>\n",
       "      <td>0.220000</td>\n",
       "      <td>0.217500</td>\n",
       "      <td>7.000000e+02</td>\n",
       "    </tr>\n",
       "    <tr>\n",
       "      <th>50%</th>\n",
       "      <td>2680.000000</td>\n",
       "      <td>5.000000</td>\n",
       "      <td>5.000000</td>\n",
       "      <td>1.350000e+03</td>\n",
       "    </tr>\n",
       "    <tr>\n",
       "      <th>75%</th>\n",
       "      <td>3634.500000</td>\n",
       "      <td>12.945000</td>\n",
       "      <td>12.945000</td>\n",
       "      <td>5.395000e+03</td>\n",
       "    </tr>\n",
       "    <tr>\n",
       "      <th>max</th>\n",
       "      <td>4542.000000</td>\n",
       "      <td>41004.290000</td>\n",
       "      <td>40966.620000</td>\n",
       "      <td>2.479136e+07</td>\n",
       "    </tr>\n",
       "  </tbody>\n",
       "</table>\n",
       "</div>"
      ],
      "text/plain": [
       "              SrNo       GrossWt         NetWt      Bill Amt\n",
       "count   599.000000    600.000000    600.000000  6.000000e+02\n",
       "mean   2490.936561    136.680967    136.555400  8.263785e+04\n",
       "std    1294.054274   1714.422156   1712.926813  1.018372e+06\n",
       "min       2.000000      0.000000      0.000000  0.000000e+00\n",
       "25%    1258.000000      0.220000      0.217500  7.000000e+02\n",
       "50%    2680.000000      5.000000      5.000000  1.350000e+03\n",
       "75%    3634.500000     12.945000     12.945000  5.395000e+03\n",
       "max    4542.000000  41004.290000  40966.620000  2.479136e+07"
      ]
     },
     "execution_count": 4,
     "metadata": {},
     "output_type": "execute_result"
    }
   ],
   "source": [
    "df.describe()"
   ]
  },
  {
   "cell_type": "code",
   "execution_count": 5,
   "metadata": {},
   "outputs": [
    {
     "name": "stdout",
     "output_type": "stream",
     "text": [
      "<class 'pandas.core.frame.DataFrame'>\n",
      "RangeIndex: 600 entries, 0 to 599\n",
      "Data columns (total 8 columns):\n",
      " #   Column           Non-Null Count  Dtype         \n",
      "---  ------           --------------  -----         \n",
      " 0   SrNo             599 non-null    float64       \n",
      " 1   Voucher Date     599 non-null    datetime64[ns]\n",
      " 2   Day Book         599 non-null    object        \n",
      " 3   Item Name        599 non-null    object        \n",
      " 4   Item Group Name  599 non-null    object        \n",
      " 5   GrossWt          600 non-null    float64       \n",
      " 6   NetWt            600 non-null    float64       \n",
      " 7   Bill Amt         600 non-null    float64       \n",
      "dtypes: datetime64[ns](1), float64(4), object(3)\n",
      "memory usage: 37.6+ KB\n"
     ]
    }
   ],
   "source": [
    "df.info()"
   ]
  },
  {
   "cell_type": "code",
   "execution_count": 7,
   "metadata": {},
   "outputs": [
    {
     "data": {
      "text/plain": [
       "KANTI KDM                                      169\n",
       "GOLD COIN 24K 999 FINE                          82\n",
       "SILVER FINE COIN 10                             51\n",
       "999 FINE                                        37\n",
       "CELEBRATIONS FOREVER                            30\n",
       "SILVER FINE COIN 5                              27\n",
       "KADI KDM                                        19\n",
       "SILVER CHORSA FINE                              18\n",
       "92 MRP SILVER ORNAMENTS                         16\n",
       "SILVER FINE COIN 20                             14\n",
       "OTHER SILVER ORNAMENTS                          13\n",
       "SILVER FINE COIN 15                             13\n",
       "SILVER FINE COIN 50                              8\n",
       "SILVER VINTI                                     7\n",
       "SILVER PAYAL                                     7\n",
       "SILVER FINE COIN 100                             6\n",
       "SILVER FINE COIN 25                              5\n",
       "SILVER DIVI                                      5\n",
       "PACKING BOX                                      4\n",
       "GENTS RING CASTING 22K 916 GOLD ORNAMENT         4\n",
       "SILVER FINE QUEEN COIN                           3\n",
       "NANI BUTTI 916                                   3\n",
       "SILVER PANDAL                                    3\n",
       "916 GOLD ORNAMENTS                               3\n",
       "BANGLES 916                                      3\n",
       "CHAIN HOLLOW 22K 916 GOLD ORNAMENT               2\n",
       "SILVER CHATRA                                    2\n",
       "SILVER OTHER                                     2\n",
       "PETCH                                            2\n",
       "LADIES RING CASTING 22K 916 GOLD ORNAMENT        2\n",
       "EARRINGS STUDS 22K 916 GOLD ORNAMENT             2\n",
       "SILVER BANGLES                                   2\n",
       "CHAIN HANDMADE 22K 916 GOLD ORNAMENT             2\n",
       "BANGLES 18K 750 GOLD ORNAMENT                    2\n",
       "LADIES BRECELET FANCY 22K 916 GOLD ORNAMENT      2\n",
       "SILVER LUCKY                                     2\n",
       "SILVER ZUDA                                      2\n",
       "MALA 916                                         2\n",
       "MANGALSUTRA ANTIQUE 22K 916 GOLD ORNAMENT        2\n",
       "GOLD KADALI 22K 916 GOLD ORNAMENT                1\n",
       "ANTIQUE HALF SET 22K 916 GOLD ORNAMENT           1\n",
       "SILVER MURTI PRANIYO                             1\n",
       "OLD GOLD                                         1\n",
       "GENTS BRESLATE 18K 750 GOLD ORNAMENT             1\n",
       "LADIES RING 18K 750 GOLD ORNAMENT                1\n",
       "BANGLE PATLA 916                                 1\n",
       "SILVER SHOPISH                                   1\n",
       "SET  BUTTI 916                                   1\n",
       "SET  916                                         1\n",
       "GENTS RING 18K 750 GOLD ORNAMENT                 1\n",
       "DOKIYU 916                                       1\n",
       "DESI ANTIQUE GOLD ORNAMENT                       1\n",
       "KADI 916                                         1\n",
       "GENTS RING 916                                   1\n",
       "CHAIN FENCY 22K 916 GOLD ORNAMENT                1\n",
       "CHAIN PENDANT 22K 916 GOLD ORNAMENT              1\n",
       "SILVER KADALI                                    1\n",
       "EARRINGS DROPS 22K 916 GOLD ORNAMENT             1\n",
       "CHAIN 916                                        1\n",
       "CHAIN 18K 750 GOLD ORNAMENT                      1\n",
       "Name: Item Name, dtype: int64"
      ]
     },
     "execution_count": 7,
     "metadata": {},
     "output_type": "execute_result"
    }
   ],
   "source": [
    "df['Item Name'].value_counts()"
   ]
  },
  {
   "cell_type": "code",
   "execution_count": 8,
   "metadata": {},
   "outputs": [
    {
     "data": {
      "text/plain": [
       "array(['KANTI KDM', 'SILVER ZUDA', 'GOLD COIN 24K 999 FINE', '999 FINE',\n",
       "       'KADI KDM', 'SILVER FINE COIN 10', 'SILVER CHORSA FINE',\n",
       "       'SILVER OTHER', 'OTHER SILVER ORNAMENTS', 'SILVER FINE COIN 20',\n",
       "       'CELEBRATIONS FOREVER', 'PETCH', 'BANGLES 916',\n",
       "       'LADIES RING CASTING 22K 916 GOLD ORNAMENT',\n",
       "       'GENTS RING CASTING 22K 916 GOLD ORNAMENT', 'CHAIN 916',\n",
       "       'CHAIN HANDMADE 22K 916 GOLD ORNAMENT',\n",
       "       'EARRINGS DROPS 22K 916 GOLD ORNAMENT', '92 MRP SILVER ORNAMENTS',\n",
       "       'SILVER FINE COIN 5', 'SILVER VINTI', 'SILVER PAYAL',\n",
       "       'LADIES BRECELET FANCY 22K 916 GOLD ORNAMENT',\n",
       "       '916 GOLD ORNAMENTS', 'CHAIN HOLLOW 22K 916 GOLD ORNAMENT',\n",
       "       'SILVER KADALI', 'CHAIN PENDANT 22K 916 GOLD ORNAMENT',\n",
       "       'MANGALSUTRA ANTIQUE 22K 916 GOLD ORNAMENT',\n",
       "       'CHAIN FENCY 22K 916 GOLD ORNAMENT', 'PACKING BOX',\n",
       "       'SILVER SHOPISH', 'GENTS RING 916', 'SILVER PANDAL',\n",
       "       'NANI BUTTI 916', 'SILVER CHATRA', 'KADI 916',\n",
       "       'DESI ANTIQUE GOLD ORNAMENT', 'SILVER BANGLES',\n",
       "       'SILVER FINE COIN 100', 'EARRINGS STUDS 22K 916 GOLD ORNAMENT',\n",
       "       'DOKIYU 916', 'GENTS RING 18K 750 GOLD ORNAMENT',\n",
       "       'SILVER FINE COIN 15', 'SILVER FINE QUEEN COIN',\n",
       "       'SILVER FINE COIN 25', 'SET  916', 'SET  BUTTI 916', 'MALA 916',\n",
       "       'BANGLE PATLA 916', 'OLD GOLD', 'SILVER FINE COIN 50',\n",
       "       'SILVER DIVI', 'BANGLES 18K 750 GOLD ORNAMENT', 'SILVER LUCKY',\n",
       "       'GENTS BRESLATE 18K 750 GOLD ORNAMENT',\n",
       "       'LADIES RING 18K 750 GOLD ORNAMENT',\n",
       "       'ANTIQUE HALF SET 22K 916 GOLD ORNAMENT',\n",
       "       'GOLD KADALI 22K 916 GOLD ORNAMENT', 'SILVER MURTI PRANIYO',\n",
       "       'CHAIN 18K 750 GOLD ORNAMENT', nan], dtype=object)"
      ]
     },
     "execution_count": 8,
     "metadata": {},
     "output_type": "execute_result"
    }
   ],
   "source": [
    "df['Item Name'].unique()"
   ]
  },
  {
   "cell_type": "code",
   "execution_count": 38,
   "metadata": {},
   "outputs": [
    {
     "data": {
      "image/png": "[encoded data removed]",
      "text/plain": [
       "<Figure size 412x360 with 6 Axes>"
      ]
     },
     "metadata": {
      "needs_background": "light"
     },
     "output_type": "display_data"
    }
   ],
   "source": [
    "sns.pairplot(df, hue='Bill Amt')\n",
    "plt.show()"
   ]
  },
  {
   "cell_type": "code",
   "execution_count": 27,
   "metadata": {},
   "outputs": [],
   "source": [
    "del df[df.columns[0]]"
   ]
  },
  {
   "cell_type": "code",
   "execution_count": 28,
   "metadata": {},
   "outputs": [
    {
     "data": {
      "text/html": [
       "<div>\n",
       "<style scoped>\n",
       "    .dataframe tbody tr th:only-of-type {\n",
       "        vertical-align: middle;\n",
       "    }\n",
       "\n",
       "    .dataframe tbody tr th {\n",
       "        vertical-align: top;\n",
       "    }\n",
       "\n",
       "    .dataframe thead th {\n",
       "        text-align: right;\n",
       "    }\n",
       "</style>\n",
       "<table border=\"1\" class=\"dataframe\">\n",
       "  <thead>\n",
       "    <tr style=\"text-align: right;\">\n",
       "      <th></th>\n",
       "      <th>Voucher Date</th>\n",
       "      <th>Day Book</th>\n",
       "      <th>Item Name</th>\n",
       "      <th>Item Group Name</th>\n",
       "      <th>GrossWt</th>\n",
       "      <th>NetWt</th>\n",
       "      <th>Bill Amt</th>\n",
       "    </tr>\n",
       "  </thead>\n",
       "  <tbody>\n",
       "    <tr>\n",
       "      <th>0</th>\n",
       "      <td>2022-01-01</td>\n",
       "      <td>ESTIMATE</td>\n",
       "      <td>KANTI KDM</td>\n",
       "      <td>KDM GOLD ORNAMENTS</td>\n",
       "      <td>0.14</td>\n",
       "      <td>0.14</td>\n",
       "      <td>1000.0</td>\n",
       "    </tr>\n",
       "    <tr>\n",
       "      <th>1</th>\n",
       "      <td>2022-01-03</td>\n",
       "      <td>ESTIMATE</td>\n",
       "      <td>KANTI KDM</td>\n",
       "      <td>KDM GOLD ORNAMENTS</td>\n",
       "      <td>0.24</td>\n",
       "      <td>0.24</td>\n",
       "      <td>1500.0</td>\n",
       "    </tr>\n",
       "    <tr>\n",
       "      <th>2</th>\n",
       "      <td>2022-01-03</td>\n",
       "      <td>ESTIMATE</td>\n",
       "      <td>SILVER ZUDA</td>\n",
       "      <td>SILVER ORNAMENTS</td>\n",
       "      <td>216.80</td>\n",
       "      <td>216.80</td>\n",
       "      <td>17000.0</td>\n",
       "    </tr>\n",
       "    <tr>\n",
       "      <th>3</th>\n",
       "      <td>2022-01-03</td>\n",
       "      <td>ESTIMATE</td>\n",
       "      <td>KANTI KDM</td>\n",
       "      <td>KDM GOLD ORNAMENTS</td>\n",
       "      <td>0.24</td>\n",
       "      <td>0.24</td>\n",
       "      <td>1870.0</td>\n",
       "    </tr>\n",
       "    <tr>\n",
       "      <th>4</th>\n",
       "      <td>2022-01-03</td>\n",
       "      <td>ESTIMATE</td>\n",
       "      <td>KANTI KDM</td>\n",
       "      <td>KDM GOLD ORNAMENTS</td>\n",
       "      <td>0.04</td>\n",
       "      <td>0.04</td>\n",
       "      <td>500.0</td>\n",
       "    </tr>\n",
       "  </tbody>\n",
       "</table>\n",
       "</div>"
      ],
      "text/plain": [
       "  Voucher Date  Day Book    Item Name     Item Group Name  GrossWt   NetWt  \\\n",
       "0   2022-01-01  ESTIMATE    KANTI KDM  KDM GOLD ORNAMENTS     0.14    0.14   \n",
       "1   2022-01-03  ESTIMATE    KANTI KDM  KDM GOLD ORNAMENTS     0.24    0.24   \n",
       "2   2022-01-03  ESTIMATE  SILVER ZUDA    SILVER ORNAMENTS   216.80  216.80   \n",
       "3   2022-01-03  ESTIMATE    KANTI KDM  KDM GOLD ORNAMENTS     0.24    0.24   \n",
       "4   2022-01-03  ESTIMATE    KANTI KDM  KDM GOLD ORNAMENTS     0.04    0.04   \n",
       "\n",
       "   Bill Amt  \n",
       "0    1000.0  \n",
       "1    1500.0  \n",
       "2   17000.0  \n",
       "3    1870.0  \n",
       "4     500.0  "
      ]
     },
     "execution_count": 28,
     "metadata": {},
     "output_type": "execute_result"
    }
   ],
   "source": [
    "df.head()"
   ]
  },
  {
   "cell_type": "code",
   "execution_count": 18,
   "metadata": {},
   "outputs": [
    {
     "data": {
      "text/plain": [
       "<AxesSubplot:xlabel='Bill Amt'>"
      ]
     },
     "execution_count": 18,
     "metadata": {},
     "output_type": "execute_result"
    },
    {
     "data": {
      "image/png": "[encoded data removed]",
      "text/plain": [
       "<Figure size 432x288 with 1 Axes>"
      ]
     },
     "metadata": {
      "needs_background": "light"
     },
     "output_type": "display_data"
    }
   ],
   "source": [
    "df.plot('Bill Amt')"
   ]
  },
  {
   "cell_type": "code",
   "execution_count": 26,
   "metadata": {},
   "outputs": [
    {
     "data": {
      "text/plain": [
       "<AxesSubplot:xlabel='Voucher Date'>"
      ]
     },
     "execution_count": 26,
     "metadata": {},
     "output_type": "execute_result"
    },
    {
     "data": {
      "image/png": "[encoded data removed]",
      "text/plain": [
       "<Figure size 432x288 with 1 Axes>"
      ]
     },
     "metadata": {
      "needs_background": "light"
     },
     "output_type": "display_data"
    }
   ],
   "source": [
    "df.plot('Voucher Date')"
   ]
  },
  {
   "cell_type": "code",
   "execution_count": 32,
   "metadata": {},
   "outputs": [],
   "source": [
    "df=df.dropna()"
   ]
  },
  {
   "cell_type": "code",
   "execution_count": 37,
   "metadata": {},
   "outputs": [
    {
     "data": {
      "text/plain": [
       "<AxesSubplot:>"
      ]
     },
     "execution_count": 37,
     "metadata": {},
     "output_type": "execute_result"
    },
    {
     "data": {
      "image/png": "[encoded data removed]",
      "text/plain": [
       "<Figure size 432x288 with 1 Axes>"
      ]
     },
     "metadata": {
      "needs_background": "light"
     },
     "output_type": "display_data"
    }
   ],
   "source": [
    "df.plot(y=['Voucher Date','Bill Amt'])"
   ]
  },
  {
   "cell_type": "code",
   "execution_count": 34,
   "metadata": {},
   "outputs": [
    {
     "name": "stdout",
     "output_type": "stream",
     "text": [
      "<class 'pandas.core.frame.DataFrame'>\n",
      "Int64Index: 599 entries, 0 to 598\n",
      "Data columns (total 7 columns):\n",
      " #   Column           Non-Null Count  Dtype         \n",
      "---  ------           --------------  -----         \n",
      " 0   Voucher Date     599 non-null    datetime64[ns]\n",
      " 1   Day Book         599 non-null    object        \n",
      " 2   Item Name        599 non-null    object        \n",
      " 3   Item Group Name  599 non-null    object        \n",
      " 4   GrossWt          599 non-null    float64       \n",
      " 5   NetWt            599 non-null    float64       \n",
      " 6   Bill Amt         599 non-null    float64       \n",
      "dtypes: datetime64[ns](1), float64(3), object(3)\n",
      "memory usage: 37.4+ KB\n"
     ]
    }
   ],
   "source": [
    "df.info()"
   ]
  },
  {
   "cell_type": "code",
   "execution_count": 35,
   "metadata": {},
   "outputs": [
    {
     "data": {
      "text/plain": [
       "array([[<AxesSubplot:xlabel='GrossWt', ylabel='GrossWt'>,\n",
       "        <AxesSubplot:xlabel='NetWt', ylabel='GrossWt'>,\n",
       "        <AxesSubplot:xlabel='Bill Amt', ylabel='GrossWt'>],\n",
       "       [<AxesSubplot:xlabel='GrossWt', ylabel='NetWt'>,\n",
       "        <AxesSubplot:xlabel='NetWt', ylabel='NetWt'>,\n",
       "        <AxesSubplot:xlabel='Bill Amt', ylabel='NetWt'>],\n",
       "       [<AxesSubplot:xlabel='GrossWt', ylabel='Bill Amt'>,\n",
       "        <AxesSubplot:xlabel='NetWt', ylabel='Bill Amt'>,\n",
       "        <AxesSubplot:xlabel='Bill Amt', ylabel='Bill Amt'>]], dtype=object)"
      ]
     },
     "execution_count": 35,
     "metadata": {},
     "output_type": "execute_result"
    },
    {
     "data": {
      "image/png": "[encoded data removed]",
      "text/plain": [
       "<Figure size 432x288 with 9 Axes>"
      ]
     },
     "metadata": {
      "needs_background": "light"
     },
     "output_type": "display_data"
    }
   ],
   "source": [
    "from pandas.plotting import scatter_matrix\n",
    "scatter_matrix(df)"
   ]
  },
  {
   "cell_type": "code",
   "execution_count": 50,
   "metadata": {},
   "outputs": [
    {
     "data": {
      "text/plain": [
       "array([[<AxesSubplot:title={'center':'Voucher Date'}>]], dtype=object)"
      ]
     },
     "execution_count": 50,
     "metadata": {},
     "output_type": "execute_result"
    },
    {
     "data": {
      "image/png": "[encoded data removed]",
      "text/plain": [
       "<Figure size 432x288 with 1 Axes>"
      ]
     },
     "metadata": {
      "needs_background": "light"
     },
     "output_type": "display_data"
    }
   ],
   "source": [
    "df.hist('Voucher Date')"
   ]
  },
  {
   "cell_type": "code",
   "execution_count": 57,
   "metadata": {},
   "outputs": [
    {
     "data": {
      "text/plain": [
       "(array([-100.,    0.,  100.,  200.,  300.,  400.,  500.,  600.,  700.]),\n",
       " [Text(-100.0, 0, 'SILVER FINE COIN 25'),\n",
       "  Text(0.0, 0, 'KANTI KDM'),\n",
       "  Text(100.0, 0, 'KANTI KDM'),\n",
       "  Text(200.0, 0, 'GOLD COIN 24K 999 FINE'),\n",
       "  Text(300.0, 0, 'OTHER SILVER ORNAMENTS'),\n",
       "  Text(400.0, 0, 'SILVER FINE COIN 5'),\n",
       "  Text(500.0, 0, 'SILVER FINE COIN 25'),\n",
       "  Text(600.0, 0, ''),\n",
       "  Text(700.0, 0, '')])"
      ]
     },
     "execution_count": 57,
     "metadata": {},
     "output_type": "execute_result"
    },
    {
     "data": {
      "image/png": "[encoded data removed]",
      "text/plain": [
       "<Figure size 432x288 with 1 Axes>"
      ]
     },
     "metadata": {
      "needs_background": "light"
     },
     "output_type": "display_data"
    }
   ],
   "source": [
    "df.plot('Item Name')\n",
    "plt.xticks(rotation=45)"
   ]
  },
  {
   "cell_type": "code",
   "execution_count": 58,
   "metadata": {},
   "outputs": [
    {
     "data": {
      "text/plain": [
       "(array([-100.,    0.,  100.,  200.,  300.,  400.,  500.,  600.,  700.]),\n",
       " [Text(-100.0, 0, 'SILVER FINE'),\n",
       "  Text(0.0, 0, 'KDM GOLD ORNAMENTS'),\n",
       "  Text(100.0, 0, 'KDM GOLD ORNAMENTS'),\n",
       "  Text(200.0, 0, '999 FINE'),\n",
       "  Text(300.0, 0, 'SILVER ORNAMENTS'),\n",
       "  Text(400.0, 0, 'SILVER FINE'),\n",
       "  Text(500.0, 0, 'SILVER FINE'),\n",
       "  Text(600.0, 0, ''),\n",
       "  Text(700.0, 0, '')])"
      ]
     },
     "execution_count": 58,
     "metadata": {},
     "output_type": "execute_result"
    },
    {
     "data": {
      "image/png": "[encoded data removed]",
      "text/plain": [
       "<Figure size 432x288 with 1 Axes>"
      ]
     },
     "metadata": {
      "needs_background": "light"
     },
     "output_type": "display_data"
    }
   ],
   "source": [
    "df.plot('Item Group Name')\n",
    "plt.xticks(rotation=45)"
   ]
  },
  {
   "cell_type": "code",
   "execution_count": 59,
   "metadata": {},
   "outputs": [
    {
     "data": {
      "text/html": [
       "<div>\n",
       "<style scoped>\n",
       "    .dataframe tbody tr th:only-of-type {\n",
       "        vertical-align: middle;\n",
       "    }\n",
       "\n",
       "    .dataframe tbody tr th {\n",
       "        vertical-align: top;\n",
       "    }\n",
       "\n",
       "    .dataframe thead th {\n",
       "        text-align: right;\n",
       "    }\n",
       "</style>\n",
       "<table border=\"1\" class=\"dataframe\">\n",
       "  <thead>\n",
       "    <tr style=\"text-align: right;\">\n",
       "      <th></th>\n",
       "      <th>Voucher Date</th>\n",
       "      <th>Day Book</th>\n",
       "      <th>Item Name</th>\n",
       "      <th>Item Group Name</th>\n",
       "      <th>GrossWt</th>\n",
       "      <th>NetWt</th>\n",
       "      <th>Bill Amt</th>\n",
       "    </tr>\n",
       "  </thead>\n",
       "  <tbody>\n",
       "    <tr>\n",
       "      <th>0</th>\n",
       "      <td>2022-01-01</td>\n",
       "      <td>ESTIMATE</td>\n",
       "      <td>KANTI KDM</td>\n",
       "      <td>KDM GOLD ORNAMENTS</td>\n",
       "      <td>0.14</td>\n",
       "      <td>0.14</td>\n",
       "      <td>1000.0</td>\n",
       "    </tr>\n",
       "    <tr>\n",
       "      <th>1</th>\n",
       "      <td>2022-01-03</td>\n",
       "      <td>ESTIMATE</td>\n",
       "      <td>KANTI KDM</td>\n",
       "      <td>KDM GOLD ORNAMENTS</td>\n",
       "      <td>0.24</td>\n",
       "      <td>0.24</td>\n",
       "      <td>1500.0</td>\n",
       "    </tr>\n",
       "    <tr>\n",
       "      <th>2</th>\n",
       "      <td>2022-01-03</td>\n",
       "      <td>ESTIMATE</td>\n",
       "      <td>SILVER ZUDA</td>\n",
       "      <td>SILVER ORNAMENTS</td>\n",
       "      <td>216.80</td>\n",
       "      <td>216.80</td>\n",
       "      <td>17000.0</td>\n",
       "    </tr>\n",
       "    <tr>\n",
       "      <th>3</th>\n",
       "      <td>2022-01-03</td>\n",
       "      <td>ESTIMATE</td>\n",
       "      <td>KANTI KDM</td>\n",
       "      <td>KDM GOLD ORNAMENTS</td>\n",
       "      <td>0.24</td>\n",
       "      <td>0.24</td>\n",
       "      <td>1870.0</td>\n",
       "    </tr>\n",
       "    <tr>\n",
       "      <th>4</th>\n",
       "      <td>2022-01-03</td>\n",
       "      <td>ESTIMATE</td>\n",
       "      <td>KANTI KDM</td>\n",
       "      <td>KDM GOLD ORNAMENTS</td>\n",
       "      <td>0.04</td>\n",
       "      <td>0.04</td>\n",
       "      <td>500.0</td>\n",
       "    </tr>\n",
       "  </tbody>\n",
       "</table>\n",
       "</div>"
      ],
      "text/plain": [
       "  Voucher Date  Day Book    Item Name     Item Group Name  GrossWt   NetWt  \\\n",
       "0   2022-01-01  ESTIMATE    KANTI KDM  KDM GOLD ORNAMENTS     0.14    0.14   \n",
       "1   2022-01-03  ESTIMATE    KANTI KDM  KDM GOLD ORNAMENTS     0.24    0.24   \n",
       "2   2022-01-03  ESTIMATE  SILVER ZUDA    SILVER ORNAMENTS   216.80  216.80   \n",
       "3   2022-01-03  ESTIMATE    KANTI KDM  KDM GOLD ORNAMENTS     0.24    0.24   \n",
       "4   2022-01-03  ESTIMATE    KANTI KDM  KDM GOLD ORNAMENTS     0.04    0.04   \n",
       "\n",
       "   Bill Amt  \n",
       "0    1000.0  \n",
       "1    1500.0  \n",
       "2   17000.0  \n",
       "3    1870.0  \n",
       "4     500.0  "
      ]
     },
     "execution_count": 59,
     "metadata": {},
     "output_type": "execute_result"
    }
   ],
   "source": [
    "df.head()"
   ]
  },
  {
   "cell_type": "code",
   "execution_count": 60,
   "metadata": {},
   "outputs": [
    {
     "data": {
      "text/plain": [
       "0      2022-01\n",
       "1      2022-01\n",
       "2      2022-01\n",
       "3      2022-01\n",
       "4      2022-01\n",
       "        ...   \n",
       "594    2021-12\n",
       "595    2021-12\n",
       "596    2021-12\n",
       "597    2021-12\n",
       "598    2021-12\n",
       "Name: Voucher Date, Length: 599, dtype: period[M]"
      ]
     },
     "execution_count": 60,
     "metadata": {},
     "output_type": "execute_result"
    }
   ],
   "source": [
    "df['Voucher Date'].dt.to_period('M')"
   ]
  },
  {
   "cell_type": "code",
   "execution_count": 61,
   "metadata": {},
   "outputs": [
    {
     "data": {
      "text/plain": [
       "0      01/2022\n",
       "1      01/2022\n",
       "2      01/2022\n",
       "3      01/2022\n",
       "4      01/2022\n",
       "        ...   \n",
       "594    12/2021\n",
       "595    12/2021\n",
       "596    12/2021\n",
       "597    12/2021\n",
       "598    12/2021\n",
       "Name: Voucher Date, Length: 599, dtype: object"
      ]
     },
     "execution_count": 61,
     "metadata": {},
     "output_type": "execute_result"
    }
   ],
   "source": [
    "df['Voucher Date'].dt.strftime('%m/%Y')\n"
   ]
  },
  {
   "cell_type": "code",
   "execution_count": 62,
   "metadata": {},
   "outputs": [],
   "source": [
    "df['yyyy']=pd.to_datetime(df['Voucher Date']).dt.year\n",
    "df['mm']=pd.to_datetime(df['Voucher Date']).dt.month"
   ]
  },
  {
   "cell_type": "code",
   "execution_count": 63,
   "metadata": {},
   "outputs": [
    {
     "data": {
      "text/html": [
       "<div>\n",
       "<style scoped>\n",
       "    .dataframe tbody tr th:only-of-type {\n",
       "        vertical-align: middle;\n",
       "    }\n",
       "\n",
       "    .dataframe tbody tr th {\n",
       "        vertical-align: top;\n",
       "    }\n",
       "\n",
       "    .dataframe thead th {\n",
       "        text-align: right;\n",
       "    }\n",
       "</style>\n",
       "<table border=\"1\" class=\"dataframe\">\n",
       "  <thead>\n",
       "    <tr style=\"text-align: right;\">\n",
       "      <th></th>\n",
       "      <th>Voucher Date</th>\n",
       "      <th>Day Book</th>\n",
       "      <th>Item Name</th>\n",
       "      <th>Item Group Name</th>\n",
       "      <th>GrossWt</th>\n",
       "      <th>NetWt</th>\n",
       "      <th>Bill Amt</th>\n",
       "      <th>yyyy</th>\n",
       "      <th>mm</th>\n",
       "    </tr>\n",
       "  </thead>\n",
       "  <tbody>\n",
       "    <tr>\n",
       "      <th>0</th>\n",
       "      <td>2022-01-01</td>\n",
       "      <td>ESTIMATE</td>\n",
       "      <td>KANTI KDM</td>\n",
       "      <td>KDM GOLD ORNAMENTS</td>\n",
       "      <td>0.14</td>\n",
       "      <td>0.14</td>\n",
       "      <td>1000.0</td>\n",
       "      <td>2022</td>\n",
       "      <td>1</td>\n",
       "    </tr>\n",
       "    <tr>\n",
       "      <th>1</th>\n",
       "      <td>2022-01-03</td>\n",
       "      <td>ESTIMATE</td>\n",
       "      <td>KANTI KDM</td>\n",
       "      <td>KDM GOLD ORNAMENTS</td>\n",
       "      <td>0.24</td>\n",
       "      <td>0.24</td>\n",
       "      <td>1500.0</td>\n",
       "      <td>2022</td>\n",
       "      <td>1</td>\n",
       "    </tr>\n",
       "    <tr>\n",
       "      <th>2</th>\n",
       "      <td>2022-01-03</td>\n",
       "      <td>ESTIMATE</td>\n",
       "      <td>SILVER ZUDA</td>\n",
       "      <td>SILVER ORNAMENTS</td>\n",
       "      <td>216.80</td>\n",
       "      <td>216.80</td>\n",
       "      <td>17000.0</td>\n",
       "      <td>2022</td>\n",
       "      <td>1</td>\n",
       "    </tr>\n",
       "    <tr>\n",
       "      <th>3</th>\n",
       "      <td>2022-01-03</td>\n",
       "      <td>ESTIMATE</td>\n",
       "      <td>KANTI KDM</td>\n",
       "      <td>KDM GOLD ORNAMENTS</td>\n",
       "      <td>0.24</td>\n",
       "      <td>0.24</td>\n",
       "      <td>1870.0</td>\n",
       "      <td>2022</td>\n",
       "      <td>1</td>\n",
       "    </tr>\n",
       "    <tr>\n",
       "      <th>4</th>\n",
       "      <td>2022-01-03</td>\n",
       "      <td>ESTIMATE</td>\n",
       "      <td>KANTI KDM</td>\n",
       "      <td>KDM GOLD ORNAMENTS</td>\n",
       "      <td>0.04</td>\n",
       "      <td>0.04</td>\n",
       "      <td>500.0</td>\n",
       "      <td>2022</td>\n",
       "      <td>1</td>\n",
       "    </tr>\n",
       "    <tr>\n",
       "      <th>...</th>\n",
       "      <td>...</td>\n",
       "      <td>...</td>\n",
       "      <td>...</td>\n",
       "      <td>...</td>\n",
       "      <td>...</td>\n",
       "      <td>...</td>\n",
       "      <td>...</td>\n",
       "      <td>...</td>\n",
       "      <td>...</td>\n",
       "    </tr>\n",
       "    <tr>\n",
       "      <th>594</th>\n",
       "      <td>2021-12-29</td>\n",
       "      <td>ESTIMATE</td>\n",
       "      <td>GOLD COIN 24K 999 FINE</td>\n",
       "      <td>999 FINE</td>\n",
       "      <td>5.00</td>\n",
       "      <td>5.00</td>\n",
       "      <td>50400.0</td>\n",
       "      <td>2021</td>\n",
       "      <td>12</td>\n",
       "    </tr>\n",
       "    <tr>\n",
       "      <th>595</th>\n",
       "      <td>2021-12-29</td>\n",
       "      <td>ESTIMATE</td>\n",
       "      <td>GOLD COIN 24K 999 FINE</td>\n",
       "      <td>999 FINE</td>\n",
       "      <td>5.00</td>\n",
       "      <td>5.00</td>\n",
       "      <td>0.0</td>\n",
       "      <td>2021</td>\n",
       "      <td>12</td>\n",
       "    </tr>\n",
       "    <tr>\n",
       "      <th>596</th>\n",
       "      <td>2021-12-31</td>\n",
       "      <td>ESTIMATE</td>\n",
       "      <td>KADI KDM</td>\n",
       "      <td>KDM GOLD ORNAMENTS</td>\n",
       "      <td>0.39</td>\n",
       "      <td>0.39</td>\n",
       "      <td>2600.0</td>\n",
       "      <td>2021</td>\n",
       "      <td>12</td>\n",
       "    </tr>\n",
       "    <tr>\n",
       "      <th>597</th>\n",
       "      <td>2021-12-31</td>\n",
       "      <td>ESTIMATE</td>\n",
       "      <td>KANTI KDM</td>\n",
       "      <td>KDM GOLD ORNAMENTS</td>\n",
       "      <td>0.10</td>\n",
       "      <td>0.10</td>\n",
       "      <td>800.0</td>\n",
       "      <td>2021</td>\n",
       "      <td>12</td>\n",
       "    </tr>\n",
       "    <tr>\n",
       "      <th>598</th>\n",
       "      <td>2021-12-31</td>\n",
       "      <td>ESTIMATE</td>\n",
       "      <td>SILVER CHORSA FINE</td>\n",
       "      <td>SILVER FINE</td>\n",
       "      <td>10.00</td>\n",
       "      <td>10.00</td>\n",
       "      <td>800.0</td>\n",
       "      <td>2021</td>\n",
       "      <td>12</td>\n",
       "    </tr>\n",
       "  </tbody>\n",
       "</table>\n",
       "<p>599 rows × 9 columns</p>\n",
       "</div>"
      ],
      "text/plain": [
       "    Voucher Date  Day Book               Item Name     Item Group Name  \\\n",
       "0     2022-01-01  ESTIMATE               KANTI KDM  KDM GOLD ORNAMENTS   \n",
       "1     2022-01-03  ESTIMATE               KANTI KDM  KDM GOLD ORNAMENTS   \n",
       "2     2022-01-03  ESTIMATE             SILVER ZUDA    SILVER ORNAMENTS   \n",
       "3     2022-01-03  ESTIMATE               KANTI KDM  KDM GOLD ORNAMENTS   \n",
       "4     2022-01-03  ESTIMATE               KANTI KDM  KDM GOLD ORNAMENTS   \n",
       "..           ...       ...                     ...                 ...   \n",
       "594   2021-12-29  ESTIMATE  GOLD COIN 24K 999 FINE            999 FINE   \n",
       "595   2021-12-29  ESTIMATE  GOLD COIN 24K 999 FINE            999 FINE   \n",
       "596   2021-12-31  ESTIMATE                KADI KDM  KDM GOLD ORNAMENTS   \n",
       "597   2021-12-31  ESTIMATE               KANTI KDM  KDM GOLD ORNAMENTS   \n",
       "598   2021-12-31  ESTIMATE      SILVER CHORSA FINE         SILVER FINE   \n",
       "\n",
       "     GrossWt   NetWt  Bill Amt  yyyy  mm  \n",
       "0       0.14    0.14    1000.0  2022   1  \n",
       "1       0.24    0.24    1500.0  2022   1  \n",
       "2     216.80  216.80   17000.0  2022   1  \n",
       "3       0.24    0.24    1870.0  2022   1  \n",
       "4       0.04    0.04     500.0  2022   1  \n",
       "..       ...     ...       ...   ...  ..  \n",
       "594     5.00    5.00   50400.0  2021  12  \n",
       "595     5.00    5.00       0.0  2021  12  \n",
       "596     0.39    0.39    2600.0  2021  12  \n",
       "597     0.10    0.10     800.0  2021  12  \n",
       "598    10.00   10.00     800.0  2021  12  \n",
       "\n",
       "[599 rows x 9 columns]"
      ]
     },
     "execution_count": 63,
     "metadata": {},
     "output_type": "execute_result"
    }
   ],
   "source": [
    "df"
   ]
  },
  {
   "cell_type": "code",
   "execution_count": null,
   "metadata": {},
   "outputs": [],
   "source": []
  }
 ],
 "metadata": {
  "interpreter": {
   "hash": "7ed49a9e00c7a43c8c8d10f5e2ce70d0251b81a2df2c3803f9097994fe86acf8"
  },
  "kernelspec": {
   "display_name": "Python 3.9.12 ('base')",
   "language": "python",
   "name": "python3"
  },
  "language_info": {
   "codemirror_mode": {
    "name": "ipython",
    "version": 3
   },
   "file_extension": ".py",
   "mimetype": "text/x-python",
   "name": "python",
   "nbconvert_exporter": "python",
   "pygments_lexer": "ipython3",
   "version": "3.9.12"
  },
  "orig_nbformat": 4
 },
 "nbformat": 4,
 "nbformat_minor": 2
}
